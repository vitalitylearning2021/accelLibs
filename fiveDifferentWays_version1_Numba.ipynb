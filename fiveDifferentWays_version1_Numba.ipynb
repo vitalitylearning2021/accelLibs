{
  "nbformat": 4,
  "nbformat_minor": 0,
  "metadata": {
    "colab": {
      "provenance": [],
      "gpuType": "T4"
    },
    "kernelspec": {
      "name": "python3",
      "display_name": "Python 3"
    },
    "language_info": {
      "name": "python"
    },
    "accelerator": "GPU"
  },
  "cells": [
    {
      "cell_type": "code",
      "source": [
        "import numpy as np\n",
        "from numba import cuda"
      ],
      "metadata": {
        "id": "hg-JX9aE7UZo"
      },
      "execution_count": 1,
      "outputs": []
    },
    {
      "cell_type": "code",
      "source": [
        "###################\n",
        "# iDivUp FUNCTION #\n",
        "###################\n",
        "def iDivUp(a, b):\n",
        "    # Round a / b to nearest higher integer value\n",
        "    a = np.int32(a)\n",
        "    b = np.int32(b)\n",
        "    return (a // b + 1) if (a % b != 0) else (a // b)"
      ],
      "metadata": {
        "id": "sBseuSbK7WwP"
      },
      "execution_count": 2,
      "outputs": []
    },
    {
      "cell_type": "code",
      "source": [
        "# --- CUDA kernel for vector addition\n",
        "@cuda.jit\n",
        "def deviceAdd(d_c, d_a, d_b, N):\n",
        "    tid = cuda.threadIdx.x + cuda.blockIdx.x * cuda.blockDim.x\n",
        "    if tid < N:\n",
        "        d_c[tid] = d_a[tid] + d_b[tid]"
      ],
      "metadata": {
        "id": "2NtW1jty7Zfv"
      },
      "execution_count": 3,
      "outputs": []
    },
    {
      "cell_type": "code",
      "execution_count": 4,
      "metadata": {
        "colab": {
          "base_uri": "https://localhost:8080/"
        },
        "id": "WFMk77y4384H",
        "outputId": "9be035e5-4805-45af-b16b-ed59f24b440a"
      },
      "outputs": [
        {
          "output_type": "stream",
          "name": "stdout",
          "text": [
            "Processing time = 0.000210s\n",
            "Test passed!\n"
          ]
        }
      ],
      "source": [
        "########\n",
        "# MAIN #\n",
        "########\n",
        "\n",
        "# --- Initialize parameters\n",
        "N = 100000\n",
        "BLOCKSIZE = 256\n",
        "gridDim = iDivUp(N, BLOCKSIZE)\n",
        "\n",
        "# --- Create random vectors on the CPU\n",
        "h_a = np.random.randn(N).astype(np.float32)\n",
        "h_b = np.random.randn(N).astype(np.float32)\n",
        "h_c = np.empty_like(h_a)\n",
        "\n",
        "# --- Allocate GPU device memory\n",
        "d_a = cuda.to_device(h_a)\n",
        "d_b = cuda.to_device(h_b)\n",
        "d_c = cuda.device_array_like(h_a)\n",
        "\n",
        "# --- Warmup execution\n",
        "deviceAdd[gridDim, BLOCKSIZE](d_c, d_a, d_b, N)\n",
        "\n",
        "# --- Measure execution time\n",
        "start = cuda.event()\n",
        "end = cuda.event()\n",
        "\n",
        "start.record()\n",
        "deviceAdd[gridDim, BLOCKSIZE](d_c, d_a, d_b, N)\n",
        "end.record()\n",
        "end.synchronize()\n",
        "\n",
        "secs = cuda.event_elapsed_time(start, end) * 1e-3\n",
        "print(f\"Processing time = {secs:.6f}s\")\n",
        "\n",
        "# --- Copy results from device to host\n",
        "d_c.copy_to_host(h_c)\n",
        "\n",
        "# --- Verify the result\n",
        "if np.array_equal(h_c, h_a + h_b):\n",
        "    print(\"Test passed!\")\n",
        "else:\n",
        "    print(\"Error!\")\n"
      ]
    }
  ]
}