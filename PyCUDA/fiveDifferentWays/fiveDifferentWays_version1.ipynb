{
  "nbformat": 4,
  "nbformat_minor": 0,
  "metadata": {
    "colab": {
      "provenance": [],
      "toc_visible": true
    },
    "kernelspec": {
      "name": "python3",
      "display_name": "Python 3"
    },
    "accelerator": "GPU"
  },
  "cells": [
    {
      "cell_type": "markdown",
      "metadata": {
        "id": "HD4jH3ZotYpS"
      },
      "source": [
        "# PyCUDA installation\n"
      ]
    },
    {
      "cell_type": "code",
      "metadata": {
        "id": "BJDdNH1CBvz0",
        "outputId": "957907f2-e2dc-4b9e-ef52-0040f972bf0c",
        "colab": {
          "base_uri": "https://localhost:8080/",
          "height": 472
        }
      },
      "source": [
        "!pip install pycuda"
      ],
      "execution_count": null,
      "outputs": [
        {
          "output_type": "stream",
          "text": [
            "Collecting pycuda\n",
            "\u001b[?25l  Downloading https://files.pythonhosted.org/packages/5e/3f/5658c38579b41866ba21ee1b5020b8225cec86fe717e4b1c5c972de0a33c/pycuda-2019.1.2.tar.gz (1.6MB)\n",
            "\u001b[K     |████████████████████████████████| 1.6MB 2.8MB/s \n",
            "\u001b[?25hCollecting pytools>=2011.2\n",
            "\u001b[?25l  Downloading https://files.pythonhosted.org/packages/56/4c/a04ed1882ae0fd756b787be4d0f15d81c137952d83cf9b991bba0bbb54ba/pytools-2020.2.tar.gz (63kB)\n",
            "\u001b[K     |████████████████████████████████| 71kB 6.5MB/s \n",
            "\u001b[?25hRequirement already satisfied: decorator>=3.2.0 in /usr/local/lib/python3.6/dist-packages (from pycuda) (4.4.2)\n",
            "Collecting appdirs>=1.4.0\n",
            "  Downloading https://files.pythonhosted.org/packages/3b/00/2344469e2084fb287c2e0b57b72910309874c3245463acd6cf5e3db69324/appdirs-1.4.4-py2.py3-none-any.whl\n",
            "Collecting mako\n",
            "\u001b[?25l  Downloading https://files.pythonhosted.org/packages/a6/37/0e706200d22172eb8fa17d68a7ae22dec7631a0a92266634fb518a88a5b2/Mako-1.1.3-py2.py3-none-any.whl (75kB)\n",
            "\u001b[K     |████████████████████████████████| 81kB 6.6MB/s \n",
            "\u001b[?25hRequirement already satisfied: six>=1.8.0 in /usr/local/lib/python3.6/dist-packages (from pytools>=2011.2->pycuda) (1.12.0)\n",
            "Requirement already satisfied: numpy>=1.6.0 in /usr/local/lib/python3.6/dist-packages (from pytools>=2011.2->pycuda) (1.18.4)\n",
            "Requirement already satisfied: MarkupSafe>=0.9.2 in /usr/local/lib/python3.6/dist-packages (from mako->pycuda) (1.1.1)\n",
            "Building wheels for collected packages: pycuda, pytools\n",
            "  Building wheel for pycuda (setup.py) ... \u001b[?25l\u001b[?25hdone\n",
            "  Created wheel for pycuda: filename=pycuda-2019.1.2-cp36-cp36m-linux_x86_64.whl size=4538988 sha256=2286999bc5c2806880ab36ca10e3f95ba46fd92f858e1e2f1602d169c42bdea6\n",
            "  Stored in directory: /root/.cache/pip/wheels/a6/60/f0/b1c430c73d281ac3e46070480db50f7907364eb6f6d3188396\n",
            "  Building wheel for pytools (setup.py) ... \u001b[?25l\u001b[?25hdone\n",
            "  Created wheel for pytools: filename=pytools-2020.2-py2.py3-none-any.whl size=62338 sha256=282f6e096e397cf6d83de7bd7e648936d564843df2f5e41f8b61761e24074769\n",
            "  Stored in directory: /root/.cache/pip/wheels/a7/d6/ac/03a67d071bde6d272d1f7c9ab7f4344fa9d7b9d98bda7fd127\n",
            "Successfully built pycuda pytools\n",
            "Installing collected packages: appdirs, pytools, mako, pycuda\n",
            "Successfully installed appdirs-1.4.4 mako-1.1.3 pycuda-2019.1.2 pytools-2020.2\n"
          ],
          "name": "stdout"
        }
      ]
    },
    {
      "cell_type": "markdown",
      "metadata": {
        "id": "KpqdkWPZDXo7"
      },
      "source": [
        "\n",
        "\n",
        "---\n",
        "\n"
      ]
    },
    {
      "cell_type": "markdown",
      "metadata": {
        "id": "AvlvVH34tnWL"
      },
      "source": [
        "# Version #1: using ```SourceModule```"
      ]
    },
    {
      "cell_type": "markdown",
      "metadata": {
        "id": "p4RYnD8i89Op"
      },
      "source": [
        "PyCUDA initialization"
      ]
    },
    {
      "cell_type": "code",
      "metadata": {
        "id": "0xYQK81g81vx"
      },
      "source": [
        "import numpy as np\n",
        "\n",
        "# --- PyCUDA initialization\n",
        "import pycuda.driver as cuda\n",
        "import pycuda.autoinit\n",
        "from pycuda.compiler import SourceModule"
      ],
      "execution_count": null,
      "outputs": []
    },
    {
      "cell_type": "markdown",
      "metadata": {
        "id": "Sv9xrA8_9VUa"
      },
      "source": [
        "\n",
        "iDivUp function: if ```b``` divides ```a```, then ```a/b``` is returned, otherwise the function returns the integer division between ```a``` and ```b``` ```+1```.\n",
        "\n"
      ]
    },
    {
      "cell_type": "code",
      "metadata": {
        "id": "HB-1igHCBM9l"
      },
      "source": [
        "###################\n",
        "# iDivUp FUNCTION #\n",
        "###################\n",
        "def iDivUp(a, b):\n",
        "    # Round a / b to nearest higher integer value\n",
        "    a = np.int32(a)\n",
        "    b = np.int32(b)\n",
        "    return (a / b + 1) if (a % b != 0) else (a / b)"
      ],
      "execution_count": null,
      "outputs": []
    },
    {
      "cell_type": "code",
      "metadata": {
        "id": "iP7b2khB-Jha"
      },
      "source": [
        "########\n",
        "# MAIN #\n",
        "########"
      ],
      "execution_count": null,
      "outputs": []
    },
    {
      "cell_type": "markdown",
      "metadata": {
        "id": "WjO-Y74f-nJC"
      },
      "source": [
        "Defining two CUDA events that will be used to measure execution time."
      ]
    },
    {
      "cell_type": "code",
      "metadata": {
        "id": "kcTqVeoT-MdR"
      },
      "source": [
        "start = cuda.Event()\n",
        "end   = cuda.Event()"
      ],
      "execution_count": null,
      "outputs": []
    },
    {
      "cell_type": "markdown",
      "metadata": {
        "id": "W3xgfClb_EQa"
      },
      "source": [
        "Number of array elements"
      ]
    },
    {
      "cell_type": "code",
      "metadata": {
        "id": "Bptd0phi-6vi"
      },
      "source": [
        "N = 100000"
      ],
      "execution_count": null,
      "outputs": []
    },
    {
      "cell_type": "markdown",
      "metadata": {
        "id": "rT1fEQDh_Ytq"
      },
      "source": [
        "Number of threads per block"
      ]
    },
    {
      "cell_type": "code",
      "metadata": {
        "id": "0-RWRjai_DGi"
      },
      "source": [
        "BLOCKSIZE = 256"
      ],
      "execution_count": null,
      "outputs": []
    },
    {
      "cell_type": "markdown",
      "metadata": {
        "id": "GB8BIZ_i_mRC"
      },
      "source": [
        "Create two host vectors ```h_a``` and ```h_b``` of ```N``` random entries. ```np.random.randn``` returns ```float64```'s."
      ]
    },
    {
      "cell_type": "code",
      "metadata": {
        "id": "7JX1Sj20_LlB"
      },
      "source": [
        "h_a = np.random.randn(1, N)\n",
        "h_b = np.random.randn(1, N)"
      ],
      "execution_count": null,
      "outputs": []
    },
    {
      "cell_type": "markdown",
      "metadata": {
        "id": "eSOaEH68DFq2"
      },
      "source": [
        "Cast ```h_a``` and ```h_b``` to single precision (```float32```)."
      ]
    },
    {
      "cell_type": "code",
      "metadata": {
        "id": "y8mZd8jV_k_C"
      },
      "source": [
        "h_a = h_a.astype(np.float32)\n",
        "h_b = h_b.astype(np.float32)"
      ],
      "execution_count": null,
      "outputs": []
    },
    {
      "cell_type": "markdown",
      "metadata": {
        "id": "5st--rgFDqB8"
      },
      "source": [
        "Allocate ```h_a.nbytes```, ```h_b.nbytes``` and ```h_c.nbytes``` of GPU device memory space pointed to by ```d_a```, ```d_b``` and ```d_c```, respectively."
      ]
    },
    {
      "cell_type": "code",
      "metadata": {
        "id": "ICyUxA9CA3Xb"
      },
      "source": [
        "d_a = cuda.mem_alloc(h_a.nbytes)\n",
        "d_b = cuda.mem_alloc(h_b.nbytes)\n",
        "d_c = cuda.mem_alloc(h_a.nbytes)"
      ],
      "execution_count": null,
      "outputs": []
    },
    {
      "cell_type": "markdown",
      "metadata": {
        "id": "j_20z0qpErTs"
      },
      "source": [
        "Copy the ```h_a``` and ```h_b``` arrays from host to the device arrays ```d_a``` and ```d_b```, respectively."
      ]
    },
    {
      "cell_type": "code",
      "metadata": {
        "id": "tlJJ2aYHD7Ys"
      },
      "source": [
        "cuda.memcpy_htod(d_a, h_a)\n",
        "cuda.memcpy_htod(d_b, h_b)"
      ],
      "execution_count": null,
      "outputs": []
    },
    {
      "cell_type": "markdown",
      "metadata": {
        "id": "0b_lsPJTFKE1"
      },
      "source": [
        "Define the CUDA kernel function ```deviceAdd``` as a string. ```deviceAdd``` performs the elementwise summation of ```d_a``` and ```d_b``` and puts the result in ```d_c```.\n",
        "\n"
      ]
    },
    {
      "cell_type": "code",
      "metadata": {
        "id": "I0JSS1BvEo2G"
      },
      "source": [
        "mod = SourceModule(\"\"\"\n",
        "  #include <stdio.h>\n",
        "  __global__ void deviceAdd(float * __restrict__ d_c, const float * __restrict__ d_a, const float * __restrict__ d_b, const int N)\n",
        "  {\n",
        "    const int tid = threadIdx.x + blockIdx.x * blockDim.x;\n",
        "    if (tid >= N) return;\n",
        "    d_c[tid] = d_a[tid] + d_b[tid];\n",
        "  }\n",
        "  \"\"\")"
      ],
      "execution_count": null,
      "outputs": []
    },
    {
      "cell_type": "markdown",
      "metadata": {
        "id": "yJ8He90xF2Ul"
      },
      "source": [
        "Define a reference to the ```__global__``` function ```deviceAdd```."
      ]
    },
    {
      "cell_type": "code",
      "metadata": {
        "id": "nsPvYXgrE48k"
      },
      "source": [
        "deviceAdd = mod.get_function(\"deviceAdd\")"
      ],
      "execution_count": null,
      "outputs": []
    },
    {
      "cell_type": "markdown",
      "metadata": {
        "id": "rXnW0kx9GXbN"
      },
      "source": [
        "Define the block size ```blockDim``` and the grid size ```gridDim```."
      ]
    },
    {
      "cell_type": "code",
      "metadata": {
        "id": "7gJ4KvepF1cw"
      },
      "source": [
        "blockDim  = (BLOCKSIZE, 1, 1)\n",
        "gridDim   = (int(iDivUp(N, BLOCKSIZE)), 1, 1)"
      ],
      "execution_count": null,
      "outputs": []
    },
    {
      "cell_type": "markdown",
      "metadata": {
        "id": "sKvUKMC_IIL_"
      },
      "source": [
        "Invoke the ```deviceAdd``` function.\n",
        "Note that, up to here, ```N``` is an *object* of ```class int``` and not an integer number. Therefore, before using it, we must cast it to ```np.int32``` which is essentially the standard, single precision, floating point type.\n",
        "Before launching ```deviceAdd```, the ```start``` and ```end``` events are recorded, so that the execution time can be measured.\n",
        "Note that, before the processing time can be measured, all the activities in the current context must be ceased. This is the reason why ```end.synchronize()``` is invoked. Remember that the host and device executions are asynchronous. Furthermore, with the event record, the device will record a time stamp for the event when it reaches that event in the stream. Without synchronization, it happens that the ```end``` event is recorded after the ```deviceAdd``` function execution is actually terminated, as we expect, but the ```print``` function is executed before ```deviceAdd``` has actually finished its execution.\n"
      ]
    },
    {
      "cell_type": "code",
      "metadata": {
        "id": "Ddx_KUikGTPH",
        "outputId": "8ab1c1c7-b057-4b13-b5be-5c62a1539fcb",
        "colab": {
          "base_uri": "https://localhost:8080/",
          "height": 35
        }
      },
      "source": [
        "# --- Warmup execution\n",
        "deviceAdd(d_c, d_a, d_b, np.int32(N), block = blockDim, grid = gridDim)\n",
        "\n",
        "start.record()\n",
        "deviceAdd(d_c, d_a, d_b, np.int32(N), block = blockDim, grid = gridDim)\n",
        "end.record()\n",
        "end.synchronize()\n",
        "secs = start.time_till(end) * 1e-3\n",
        "print(\"Processing time = %fs\" % (secs))"
      ],
      "execution_count": null,
      "outputs": [
        {
          "output_type": "stream",
          "text": [
            "Processing time = 0.000107s\n"
          ],
          "name": "stdout"
        }
      ]
    },
    {
      "cell_type": "markdown",
      "metadata": {
        "id": "0tjCl9RrSHvK"
      },
      "source": [
        "Allocate host space and copy results from device to host."
      ]
    },
    {
      "cell_type": "code",
      "metadata": {
        "id": "wySMagLqGumX",
        "colab": {
          "base_uri": "https://localhost:8080/",
          "height": 35
        },
        "outputId": "22f7a0f5-4743-4927-9de7-15a6b99b50dd"
      },
      "source": [
        "h_c = np.empty_like(h_a)\n",
        "cuda.memcpy_dtoh(h_c, d_c)"
      ],
      "execution_count": null,
      "outputs": [
        {
          "output_type": "stream",
          "text": [
            "<class 'numpy.ndarray'>\n"
          ],
          "name": "stdout"
        }
      ]
    },
    {
      "cell_type": "markdown",
      "metadata": {
        "id": "xs-9eC0YSpiS"
      },
      "source": [
        "Check if the device processing results are as expected."
      ]
    },
    {
      "cell_type": "code",
      "metadata": {
        "id": "MzVWn4GRSF0j",
        "outputId": "4354eea5-dd10-400e-864b-3c3243b36bd6",
        "colab": {
          "base_uri": "https://localhost:8080/",
          "height": 35
        }
      },
      "source": [
        "if np.array_equal(h_c, h_a + h_b):\n",
        "  print(\"Test passed!\")\n",
        "else :\n",
        "  print(\"Error!\")"
      ],
      "execution_count": null,
      "outputs": [
        {
          "output_type": "stream",
          "text": [
            "Test passed!\n"
          ],
          "name": "stdout"
        }
      ]
    },
    {
      "cell_type": "markdown",
      "metadata": {
        "id": "EbQUSGVoSv6i"
      },
      "source": [
        "Finally, flush context printf buffer. Without flushing, no printout may be returned."
      ]
    },
    {
      "cell_type": "code",
      "metadata": {
        "id": "X-Vvif3iSP2p"
      },
      "source": [
        "cuda.Context.synchronize()"
      ],
      "execution_count": null,
      "outputs": []
    }
  ]
}
