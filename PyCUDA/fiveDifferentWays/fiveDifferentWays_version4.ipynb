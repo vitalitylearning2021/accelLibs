{
  "nbformat": 4,
  "nbformat_minor": 0,
  "metadata": {
    "colab": {
      "provenance": []
    },
    "kernelspec": {
      "name": "python3",
      "display_name": "Python 3"
    },
    "accelerator": "GPU"
  },
  "cells": [
    {
      "cell_type": "markdown",
      "metadata": {
        "id": "SVu3CeYsZjlg"
      },
      "source": [
        "# PyCUDA installation"
      ]
    },
    {
      "cell_type": "code",
      "metadata": {
        "id": "DG6ck3vGZceu",
        "outputId": "1b4a5d5a-a3b2-44e5-e65f-9719dcb92027",
        "colab": {
          "base_uri": "https://localhost:8080/"
        }
      },
      "source": [
        "!pip install pycuda"
      ],
      "execution_count": 1,
      "outputs": [
        {
          "output_type": "stream",
          "name": "stdout",
          "text": [
            "Collecting pycuda\n",
            "  Downloading pycuda-2024.1.2.tar.gz (1.7 MB)\n",
            "\u001b[?25l     \u001b[90m━━━━━━━━━━━━━━━━━━━━━━━━━━━━━━━━━━━━━━━━\u001b[0m \u001b[32m0.0/1.7 MB\u001b[0m \u001b[31m?\u001b[0m eta \u001b[36m-:--:--\u001b[0m\r\u001b[2K     \u001b[91m━━━━━━━━━━━━━━━━━━━━━━━━━━━━━━━━━━━━━━━\u001b[0m\u001b[91m╸\u001b[0m \u001b[32m1.7/1.7 MB\u001b[0m \u001b[31m93.6 MB/s\u001b[0m eta \u001b[36m0:00:01\u001b[0m\r\u001b[2K     \u001b[90m━━━━━━━━━━━━━━━━━━━━━━━━━━━━━━━━━━━━━━━━\u001b[0m \u001b[32m1.7/1.7 MB\u001b[0m \u001b[31m42.5 MB/s\u001b[0m eta \u001b[36m0:00:00\u001b[0m\n",
            "\u001b[?25h  Installing build dependencies ... \u001b[?25l\u001b[?25hdone\n",
            "  Getting requirements to build wheel ... \u001b[?25l\u001b[?25hdone\n",
            "  Preparing metadata (pyproject.toml) ... \u001b[?25l\u001b[?25hdone\n",
            "Collecting pytools>=2011.2 (from pycuda)\n",
            "  Downloading pytools-2024.1.21-py3-none-any.whl.metadata (2.9 kB)\n",
            "Requirement already satisfied: platformdirs>=2.2.0 in /usr/local/lib/python3.10/dist-packages (from pycuda) (4.3.6)\n",
            "Collecting mako (from pycuda)\n",
            "  Downloading Mako-1.3.8-py3-none-any.whl.metadata (2.9 kB)\n",
            "Requirement already satisfied: typing-extensions>=4.5 in /usr/local/lib/python3.10/dist-packages (from pytools>=2011.2->pycuda) (4.12.2)\n",
            "Requirement already satisfied: MarkupSafe>=0.9.2 in /usr/local/lib/python3.10/dist-packages (from mako->pycuda) (3.0.2)\n",
            "Downloading pytools-2024.1.21-py3-none-any.whl (92 kB)\n",
            "\u001b[2K   \u001b[90m━━━━━━━━━━━━━━━━━━━━━━━━━━━━━━━━━━━━━━━━\u001b[0m \u001b[32m92.4/92.4 kB\u001b[0m \u001b[31m7.6 MB/s\u001b[0m eta \u001b[36m0:00:00\u001b[0m\n",
            "\u001b[?25hDownloading Mako-1.3.8-py3-none-any.whl (78 kB)\n",
            "\u001b[2K   \u001b[90m━━━━━━━━━━━━━━━━━━━━━━━━━━━━━━━━━━━━━━━━\u001b[0m \u001b[32m78.6/78.6 kB\u001b[0m \u001b[31m6.1 MB/s\u001b[0m eta \u001b[36m0:00:00\u001b[0m\n",
            "\u001b[?25hBuilding wheels for collected packages: pycuda\n",
            "  Building wheel for pycuda (pyproject.toml) ... \u001b[?25l\u001b[?25hdone\n",
            "  Created wheel for pycuda: filename=pycuda-2024.1.2-cp310-cp310-linux_x86_64.whl size=660545 sha256=3951c51f7d294a243205c97b603f4835eb20e346a1eba8288e3d23a15305e6e4\n",
            "  Stored in directory: /root/.cache/pip/wheels/70/63/40/4bf006182f942d3516b71bb2ff3b57ccbdb8b2c0ee81882b6e\n",
            "Successfully built pycuda\n",
            "Installing collected packages: pytools, mako, pycuda\n",
            "Successfully installed mako-1.3.8 pycuda-2024.1.2 pytools-2024.1.21\n"
          ]
        }
      ]
    },
    {
      "cell_type": "markdown",
      "metadata": {
        "id": "dwusg2czZ9ZG"
      },
      "source": [
        "\n",
        "\n",
        "---\n",
        "\n"
      ]
    },
    {
      "cell_type": "markdown",
      "metadata": {
        "id": "Kem84FfyZ-fU"
      },
      "source": [
        "# Version 4: using ```ElementwiseKernel```"
      ]
    },
    {
      "cell_type": "markdown",
      "metadata": {
        "id": "yvofD-5ca9v-"
      },
      "source": [
        "The first part of the code is the usual one."
      ]
    },
    {
      "cell_type": "code",
      "metadata": {
        "id": "c8hvOunBaJHG"
      },
      "source": [
        "import numpy as np\n",
        "\n",
        "import pycuda.driver as cuda\n",
        "import pycuda.autoinit\n",
        "import pycuda.gpuarray as gpuarray\n",
        "\n",
        "########\n",
        "# MAIN #\n",
        "########\n",
        "\n",
        "start = cuda.Event()\n",
        "end   = cuda.Event()\n",
        "\n",
        "N = 100000\n",
        "\n",
        "h_a = np.random.randn(1, N)\n",
        "h_b = np.random.randn(1, N)\n",
        "\n",
        "h_a = h_a.astype(np.float32)\n",
        "h_b = h_b.astype(np.float32)\n",
        "\n",
        "d_a = gpuarray.to_gpu(h_a)\n",
        "d_b = gpuarray.to_gpu(h_b)"
      ],
      "execution_count": 2,
      "outputs": []
    },
    {
      "cell_type": "markdown",
      "metadata": {
        "id": "o3FhI_S_boJX"
      },
      "source": [
        "In this example, ```d_c``` is explicitly defined. This is necessary for the use of the ```ElementwiseKernel``` module."
      ]
    },
    {
      "cell_type": "code",
      "metadata": {
        "id": "cpzx7eajbo0N"
      },
      "source": [
        "d_c = gpuarray.empty_like(d_a)"
      ],
      "execution_count": 3,
      "outputs": []
    },
    {
      "cell_type": "markdown",
      "metadata": {
        "id": "VnN2716xbzk9"
      },
      "source": [
        "Load the ```ElementwiseKernel``` module."
      ]
    },
    {
      "cell_type": "code",
      "metadata": {
        "id": "NMPzKKoRbz7E"
      },
      "source": [
        "from pycuda.elementwise import ElementwiseKernel"
      ],
      "execution_count": 4,
      "outputs": []
    },
    {
      "cell_type": "markdown",
      "metadata": {
        "id": "o3oZUt9scf0G"
      },
      "source": [
        "The ```ElementwiseKernel``` enables to define only the kernel instructions to be elementwise executed within the kernel. Here, to generalize Version #1, a general linear combination between ```d_a``` and ```d_b``` is considered. A reference to the elementwise kernel is defined in ```lin_comb```.\n"
      ]
    },
    {
      "cell_type": "code",
      "metadata": {
        "id": "4v_ncnJKcgPs"
      },
      "source": [
        "lin_comb = ElementwiseKernel(\n",
        "        \"float *d_c, float *d_a, float *d_b, float a, float b\",\n",
        "        \"d_c[i] = a * d_a[i] + b * d_b[i]\")"
      ],
      "execution_count": 5,
      "outputs": []
    },
    {
      "cell_type": "markdown",
      "metadata": {
        "id": "AQKGJciLtxvs"
      },
      "source": [
        "Invoke the ```lin_comb``` function."
      ]
    },
    {
      "cell_type": "code",
      "metadata": {
        "id": "mIYnhKO5tw-m",
        "outputId": "0c01a856-7491-4894-a7b9-b216d0cd86a7",
        "colab": {
          "base_uri": "https://localhost:8080/"
        }
      },
      "source": [
        "# --- Warmup execution\n",
        "lin_comb(d_c, d_a, d_b, 2, 3)\n",
        "\n",
        "start.record()\n",
        "lin_comb(d_c, d_a, d_b, 2, 3)\n",
        "end.record()\n",
        "end.synchronize()\n",
        "secs = start.time_till(end) * 1e-3\n",
        "print(\"Processing time = %fs\" % (secs))"
      ],
      "execution_count": 6,
      "outputs": [
        {
          "output_type": "stream",
          "name": "stdout",
          "text": [
            "Processing time = 0.000220s\n"
          ]
        }
      ]
    },
    {
      "cell_type": "markdown",
      "metadata": {
        "id": "P4lr_HlFueTE"
      },
      "source": [
        "The last part is as usual."
      ]
    },
    {
      "cell_type": "code",
      "metadata": {
        "id": "_C9ri1HvudJu",
        "outputId": "bff34889-d3a5-459d-c8e4-4d3c584a9ad3",
        "colab": {
          "base_uri": "https://localhost:8080/"
        }
      },
      "source": [
        "h_c = d_c.get()\n",
        "\n",
        "if np.array_equal(h_c, 2 * h_a + 3 * h_b):\n",
        "  print(\"Test passed!\")\n",
        "else :\n",
        "  print(\"Error!\")\n",
        "\n",
        "cuda.Context.synchronize()"
      ],
      "execution_count": 7,
      "outputs": [
        {
          "output_type": "stream",
          "name": "stdout",
          "text": [
            "Test passed!\n"
          ]
        }
      ]
    }
  ]
}